{
 "cells": [
  {
   "cell_type": "code",
   "execution_count": 18,
   "id": "e231431d",
   "metadata": {},
   "outputs": [],
   "source": [
    "import pandas as pd\n",
    "data = pd.read_json(\"dados.json\")"
   ]
  },
  {
   "cell_type": "code",
   "execution_count": 19,
   "id": "0594d7d5",
   "metadata": {},
   "outputs": [
    {
     "data": {
      "text/html": [
       "<div>\n",
       "<style scoped>\n",
       "    .dataframe tbody tr th:only-of-type {\n",
       "        vertical-align: middle;\n",
       "    }\n",
       "\n",
       "    .dataframe tbody tr th {\n",
       "        vertical-align: top;\n",
       "    }\n",
       "\n",
       "    .dataframe thead th {\n",
       "        text-align: right;\n",
       "    }\n",
       "</style>\n",
       "<table border=\"1\" class=\"dataframe\">\n",
       "  <thead>\n",
       "    <tr style=\"text-align: right;\">\n",
       "      <th></th>\n",
       "      <th>Data</th>\n",
       "      <th>Doses Unicas</th>\n",
       "      <th>Dose 1</th>\n",
       "      <th>Dose 2</th>\n",
       "      <th>Total percentagem</th>\n",
       "    </tr>\n",
       "  </thead>\n",
       "  <tbody>\n",
       "    <tr>\n",
       "      <th>0</th>\n",
       "      <td>022/010/2021</td>\n",
       "      <td>6265</td>\n",
       "      <td>296420</td>\n",
       "      <td>187775</td>\n",
       "      <td>87</td>\n",
       "    </tr>\n",
       "    <tr>\n",
       "      <th>1</th>\n",
       "      <td>05/09/2021</td>\n",
       "      <td>6260</td>\n",
       "      <td>258714</td>\n",
       "      <td>95869</td>\n",
       "      <td>86</td>\n",
       "    </tr>\n",
       "    <tr>\n",
       "      <th>2</th>\n",
       "      <td>06/09/2021</td>\n",
       "      <td>6260</td>\n",
       "      <td>263318</td>\n",
       "      <td>112596</td>\n",
       "      <td>88</td>\n",
       "    </tr>\n",
       "    <tr>\n",
       "      <th>3</th>\n",
       "      <td>010/09/2021</td>\n",
       "      <td>6260</td>\n",
       "      <td>263318</td>\n",
       "      <td>112596</td>\n",
       "      <td>88</td>\n",
       "    </tr>\n",
       "    <tr>\n",
       "      <th>4</th>\n",
       "      <td>011/09/2021</td>\n",
       "      <td>6260</td>\n",
       "      <td>263318</td>\n",
       "      <td>112596</td>\n",
       "      <td>88</td>\n",
       "    </tr>\n",
       "    <tr>\n",
       "      <th>...</th>\n",
       "      <td>...</td>\n",
       "      <td>...</td>\n",
       "      <td>...</td>\n",
       "      <td>...</td>\n",
       "      <td>...</td>\n",
       "    </tr>\n",
       "    <tr>\n",
       "      <th>139</th>\n",
       "      <td>012/01/2022</td>\n",
       "      <td>6265</td>\n",
       "      <td>332010</td>\n",
       "      <td>307076</td>\n",
       "      <td>96</td>\n",
       "    </tr>\n",
       "    <tr>\n",
       "      <th>140</th>\n",
       "      <td>013/01/2022</td>\n",
       "      <td>6265</td>\n",
       "      <td>332010</td>\n",
       "      <td>307076</td>\n",
       "      <td>96</td>\n",
       "    </tr>\n",
       "    <tr>\n",
       "      <th>141</th>\n",
       "      <td>014/01/2022</td>\n",
       "      <td>6265</td>\n",
       "      <td>332010</td>\n",
       "      <td>307076</td>\n",
       "      <td>96</td>\n",
       "    </tr>\n",
       "    <tr>\n",
       "      <th>142</th>\n",
       "      <td>015/01/2022</td>\n",
       "      <td>6265</td>\n",
       "      <td>332010</td>\n",
       "      <td>307076</td>\n",
       "      <td>96</td>\n",
       "    </tr>\n",
       "    <tr>\n",
       "      <th>143</th>\n",
       "      <td>016/01/2022</td>\n",
       "      <td>6265</td>\n",
       "      <td>332010</td>\n",
       "      <td>307076</td>\n",
       "      <td>96</td>\n",
       "    </tr>\n",
       "  </tbody>\n",
       "</table>\n",
       "<p>144 rows × 5 columns</p>\n",
       "</div>"
      ],
      "text/plain": [
       "             Data  Doses Unicas  Dose 1  Dose 2  Total percentagem\n",
       "0    022/010/2021          6265  296420  187775                 87\n",
       "1      05/09/2021          6260  258714   95869                 86\n",
       "2      06/09/2021          6260  263318  112596                 88\n",
       "3     010/09/2021          6260  263318  112596                 88\n",
       "4     011/09/2021          6260  263318  112596                 88\n",
       "..            ...           ...     ...     ...                ...\n",
       "139   012/01/2022          6265  332010  307076                 96\n",
       "140   013/01/2022          6265  332010  307076                 96\n",
       "141   014/01/2022          6265  332010  307076                 96\n",
       "142   015/01/2022          6265  332010  307076                 96\n",
       "143   016/01/2022          6265  332010  307076                 96\n",
       "\n",
       "[144 rows x 5 columns]"
      ]
     },
     "execution_count": 19,
     "metadata": {},
     "output_type": "execute_result"
    }
   ],
   "source": [
    "data"
   ]
  },
  {
   "cell_type": "code",
   "execution_count": 20,
   "id": "2cdcf7ed",
   "metadata": {
    "scrolled": true
   },
   "outputs": [
    {
     "data": {
      "text/plain": [
       "Data                 object\n",
       "Doses Unicas          int64\n",
       "Dose 1                int64\n",
       "Dose 2                int64\n",
       "Total percentagem     int64\n",
       "dtype: object"
      ]
     },
     "execution_count": 20,
     "metadata": {},
     "output_type": "execute_result"
    }
   ],
   "source": [
    "data.dtypes"
   ]
  },
  {
   "cell_type": "code",
   "execution_count": 24,
   "id": "d9dfc206",
   "metadata": {},
   "outputs": [],
   "source": [
    "tipos = pd.DataFrame(data.dtypes,columns = [\"tipos\"])"
   ]
  },
  {
   "cell_type": "code",
   "execution_count": 25,
   "id": "33077305",
   "metadata": {},
   "outputs": [],
   "source": [
    "tipos.columns.name = \"variaveis\""
   ]
  },
  {
   "cell_type": "code",
   "execution_count": 31,
   "id": "577d6405",
   "metadata": {},
   "outputs": [],
   "source": [
    "data.to_html(\"dataa.html\")"
   ]
  },
  {
   "cell_type": "code",
   "execution_count": 33,
   "id": "30557dc7",
   "metadata": {},
   "outputs": [
    {
     "data": {
      "text/html": [
       "<div>\n",
       "<style scoped>\n",
       "    .dataframe tbody tr th:only-of-type {\n",
       "        vertical-align: middle;\n",
       "    }\n",
       "\n",
       "    .dataframe tbody tr th {\n",
       "        vertical-align: top;\n",
       "    }\n",
       "\n",
       "    .dataframe thead th {\n",
       "        text-align: right;\n",
       "    }\n",
       "</style>\n",
       "<table border=\"1\" class=\"dataframe\">\n",
       "  <thead>\n",
       "    <tr style=\"text-align: right;\">\n",
       "      <th></th>\n",
       "      <th>Data</th>\n",
       "      <th>Doses Unicas</th>\n",
       "      <th>Dose 1</th>\n",
       "      <th>Dose 2</th>\n",
       "      <th>Total percentagem</th>\n",
       "    </tr>\n",
       "  </thead>\n",
       "  <tbody>\n",
       "    <tr>\n",
       "      <th>0</th>\n",
       "      <td>022/010/2021</td>\n",
       "      <td>6265</td>\n",
       "      <td>296420</td>\n",
       "      <td>187775</td>\n",
       "      <td>87</td>\n",
       "    </tr>\n",
       "    <tr>\n",
       "      <th>1</th>\n",
       "      <td>05/09/2021</td>\n",
       "      <td>6260</td>\n",
       "      <td>258714</td>\n",
       "      <td>95869</td>\n",
       "      <td>86</td>\n",
       "    </tr>\n",
       "    <tr>\n",
       "      <th>2</th>\n",
       "      <td>06/09/2021</td>\n",
       "      <td>6260</td>\n",
       "      <td>263318</td>\n",
       "      <td>112596</td>\n",
       "      <td>88</td>\n",
       "    </tr>\n",
       "    <tr>\n",
       "      <th>3</th>\n",
       "      <td>010/09/2021</td>\n",
       "      <td>6260</td>\n",
       "      <td>263318</td>\n",
       "      <td>112596</td>\n",
       "      <td>88</td>\n",
       "    </tr>\n",
       "    <tr>\n",
       "      <th>4</th>\n",
       "      <td>011/09/2021</td>\n",
       "      <td>6260</td>\n",
       "      <td>263318</td>\n",
       "      <td>112596</td>\n",
       "      <td>88</td>\n",
       "    </tr>\n",
       "  </tbody>\n",
       "</table>\n",
       "</div>"
      ],
      "text/plain": [
       "           Data  Doses Unicas  Dose 1  Dose 2  Total percentagem\n",
       "0  022/010/2021          6265  296420  187775                 87\n",
       "1    05/09/2021          6260  258714   95869                 86\n",
       "2    06/09/2021          6260  263318  112596                 88\n",
       "3   010/09/2021          6260  263318  112596                 88\n",
       "4   011/09/2021          6260  263318  112596                 88"
      ]
     },
     "execution_count": 33,
     "metadata": {},
     "output_type": "execute_result"
    }
   ],
   "source": [
    "data.head()"
   ]
  },
  {
   "cell_type": "code",
   "execution_count": 34,
   "id": "1ef2976d",
   "metadata": {},
   "outputs": [
    {
     "data": {
      "text/plain": [
       "Index(['Data', 'Doses Unicas', 'Dose 1', 'Dose 2', 'Total percentagem'], dtype='object')"
      ]
     },
     "execution_count": 34,
     "metadata": {},
     "output_type": "execute_result"
    }
   ],
   "source": [
    "data.columns\n"
   ]
  },
  {
   "cell_type": "code",
   "execution_count": 38,
   "id": "820bb621",
   "metadata": {},
   "outputs": [
    {
     "data": {
      "text/plain": [
       "0      296420\n",
       "1      258714\n",
       "2      263318\n",
       "3      263318\n",
       "4      263318\n",
       "        ...  \n",
       "139    332010\n",
       "140    332010\n",
       "141    332010\n",
       "142    332010\n",
       "143    332010\n",
       "Name: Dose 1, Length: 144, dtype: int64"
      ]
     },
     "execution_count": 38,
     "metadata": {},
     "output_type": "execute_result"
    }
   ],
   "source": [
    "data[\"Dose 1\"]"
   ]
  },
  {
   "cell_type": "code",
   "execution_count": 64,
   "id": "ef072186",
   "metadata": {},
   "outputs": [],
   "source": [
    "datas = data[\"Dose 1\"]"
   ]
  },
  {
   "cell_type": "code",
   "execution_count": 65,
   "id": "3906153c",
   "metadata": {},
   "outputs": [
    {
     "data": {
      "text/plain": [
       "0      296420\n",
       "1      258714\n",
       "2      263318\n",
       "3      263318\n",
       "4      263318\n",
       "        ...  \n",
       "139    332010\n",
       "140    332010\n",
       "141    332010\n",
       "142    332010\n",
       "143    332010\n",
       "Name: Dose 1, Length: 144, dtype: int64"
      ]
     },
     "execution_count": 65,
     "metadata": {},
     "output_type": "execute_result"
    }
   ],
   "source": [
    "datas"
   ]
  },
  {
   "cell_type": "code",
   "execution_count": 66,
   "id": "decd6390",
   "metadata": {},
   "outputs": [],
   "source": [
    "tipo = data[\"Dose 1\"]"
   ]
  },
  {
   "cell_type": "code",
   "execution_count": 67,
   "id": "039ef8e0",
   "metadata": {},
   "outputs": [
    {
     "data": {
      "text/plain": [
       "0      296420\n",
       "1      258714\n",
       "2      263318\n",
       "3      263318\n",
       "4      263318\n",
       "        ...  \n",
       "139    332010\n",
       "140    332010\n",
       "141    332010\n",
       "142    332010\n",
       "143    332010\n",
       "Name: Dose 1, Length: 144, dtype: int64"
      ]
     },
     "execution_count": 67,
     "metadata": {},
     "output_type": "execute_result"
    }
   ],
   "source": [
    "tipo"
   ]
  },
  {
   "cell_type": "code",
   "execution_count": 76,
   "id": "012622ef",
   "metadata": {
    "scrolled": true
   },
   "outputs": [],
   "source": [
    "tipo.drop_duplicates(inplace = True)"
   ]
  },
  {
   "cell_type": "code",
   "execution_count": 80,
   "id": "b9256b12",
   "metadata": {},
   "outputs": [],
   "source": [
    "doses_1 = pd.DataFrame(tipo)"
   ]
  },
  {
   "cell_type": "code",
   "execution_count": 87,
   "id": "2335180d",
   "metadata": {},
   "outputs": [
    {
     "data": {
      "text/html": [
       "<div>\n",
       "<style scoped>\n",
       "    .dataframe tbody tr th:only-of-type {\n",
       "        vertical-align: middle;\n",
       "    }\n",
       "\n",
       "    .dataframe tbody tr th {\n",
       "        vertical-align: top;\n",
       "    }\n",
       "\n",
       "    .dataframe thead th {\n",
       "        text-align: right;\n",
       "    }\n",
       "</style>\n",
       "<table border=\"1\" class=\"dataframe\">\n",
       "  <thead>\n",
       "    <tr style=\"text-align: right;\">\n",
       "      <th></th>\n",
       "      <th>Dose 1</th>\n",
       "    </tr>\n",
       "  </thead>\n",
       "  <tbody>\n",
       "    <tr>\n",
       "      <th>0</th>\n",
       "      <td>296420</td>\n",
       "    </tr>\n",
       "    <tr>\n",
       "      <th>1</th>\n",
       "      <td>258714</td>\n",
       "    </tr>\n",
       "    <tr>\n",
       "      <th>2</th>\n",
       "      <td>263318</td>\n",
       "    </tr>\n",
       "    <tr>\n",
       "      <th>3</th>\n",
       "      <td>272627</td>\n",
       "    </tr>\n",
       "    <tr>\n",
       "      <th>4</th>\n",
       "      <td>277791</td>\n",
       "    </tr>\n",
       "    <tr>\n",
       "      <th>5</th>\n",
       "      <td>285211</td>\n",
       "    </tr>\n",
       "    <tr>\n",
       "      <th>6</th>\n",
       "      <td>294662</td>\n",
       "    </tr>\n",
       "    <tr>\n",
       "      <th>7</th>\n",
       "      <td>296182</td>\n",
       "    </tr>\n",
       "    <tr>\n",
       "      <th>8</th>\n",
       "      <td>296292</td>\n",
       "    </tr>\n",
       "    <tr>\n",
       "      <th>9</th>\n",
       "      <td>2962332</td>\n",
       "    </tr>\n",
       "    <tr>\n",
       "      <th>10</th>\n",
       "      <td>305274</td>\n",
       "    </tr>\n",
       "    <tr>\n",
       "      <th>11</th>\n",
       "      <td>309365</td>\n",
       "    </tr>\n",
       "    <tr>\n",
       "      <th>12</th>\n",
       "      <td>314433</td>\n",
       "    </tr>\n",
       "    <tr>\n",
       "      <th>13</th>\n",
       "      <td>320867</td>\n",
       "    </tr>\n",
       "    <tr>\n",
       "      <th>14</th>\n",
       "      <td>328209</td>\n",
       "    </tr>\n",
       "    <tr>\n",
       "      <th>15</th>\n",
       "      <td>329369</td>\n",
       "    </tr>\n",
       "    <tr>\n",
       "      <th>16</th>\n",
       "      <td>332010</td>\n",
       "    </tr>\n",
       "  </tbody>\n",
       "</table>\n",
       "</div>"
      ],
      "text/plain": [
       "     Dose 1\n",
       "0    296420\n",
       "1    258714\n",
       "2    263318\n",
       "3    272627\n",
       "4    277791\n",
       "5    285211\n",
       "6    294662\n",
       "7    296182\n",
       "8    296292\n",
       "9   2962332\n",
       "10   305274\n",
       "11   309365\n",
       "12   314433\n",
       "13   320867\n",
       "14   328209\n",
       "15   329369\n",
       "16   332010"
      ]
     },
     "execution_count": 87,
     "metadata": {},
     "output_type": "execute_result"
    }
   ],
   "source": [
    "doses_1"
   ]
  },
  {
   "cell_type": "code",
   "execution_count": 88,
   "id": "53bfc3b1",
   "metadata": {},
   "outputs": [
    {
     "data": {
      "text/plain": [
       "(17, 1)"
      ]
     },
     "execution_count": 88,
     "metadata": {},
     "output_type": "execute_result"
    }
   ],
   "source": [
    "doses_1.shape"
   ]
  },
  {
   "cell_type": "code",
   "execution_count": 89,
   "id": "75cf87db",
   "metadata": {},
   "outputs": [],
   "source": [
    "doses_1.index = range(doses_1.shape[0])"
   ]
  },
  {
   "cell_type": "code",
   "execution_count": 86,
   "id": "c047bff8",
   "metadata": {},
   "outputs": [
    {
     "ename": "TypeError",
     "evalue": "'tuple' object is not callable",
     "output_type": "error",
     "traceback": [
      "\u001b[0;31m---------------------------------------------------------------------------\u001b[0m",
      "\u001b[0;31mTypeError\u001b[0m                                 Traceback (most recent call last)",
      "Input \u001b[0;32mIn [86]\u001b[0m, in \u001b[0;36m<module>\u001b[0;34m\u001b[0m\n\u001b[0;32m----> 1\u001b[0m \u001b[43mdoses_1\u001b[49m\u001b[38;5;241;43m.\u001b[39;49m\u001b[43mshape\u001b[49m\u001b[43m(\u001b[49m\u001b[43m)\u001b[49m\n",
      "\u001b[0;31mTypeError\u001b[0m: 'tuple' object is not callable"
     ]
    }
   ],
   "source": []
  }
 ],
 "metadata": {
  "kernelspec": {
   "display_name": "Python 3 (ipykernel)",
   "language": "python",
   "name": "python3"
  },
  "language_info": {
   "codemirror_mode": {
    "name": "ipython",
    "version": 3
   },
   "file_extension": ".py",
   "mimetype": "text/x-python",
   "name": "python",
   "nbconvert_exporter": "python",
   "pygments_lexer": "ipython3",
   "version": "3.10.1"
  }
 },
 "nbformat": 4,
 "nbformat_minor": 5
}
