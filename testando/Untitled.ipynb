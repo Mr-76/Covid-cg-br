{
 "cells": [
  {
   "cell_type": "code",
   "execution_count": 3,
   "id": "4eb4f2be",
   "metadata": {},
   "outputs": [],
   "source": [
    "import pandas as pd\n",
    "import matplotlib as plt\n"
   ]
  },
  {
   "cell_type": "code",
   "execution_count": 4,
   "id": "4250bcee",
   "metadata": {},
   "outputs": [],
   "source": [
    "\n",
    "dados = pd.read_json(\"dados.json\")"
   ]
  },
  {
   "cell_type": "code",
   "execution_count": 9,
   "id": "a89263f9",
   "metadata": {},
   "outputs": [
    {
     "data": {
      "text/plain": [
       "150"
      ]
     },
     "execution_count": 9,
     "metadata": {},
     "output_type": "execute_result"
    }
   ],
   "source": [
    "dados.shape[0]"
   ]
  },
  {
   "cell_type": "code",
   "execution_count": 13,
   "id": "40292328",
   "metadata": {},
   "outputs": [],
   "source": [
    "dates = pd.to_datetime(dados[\"Data\"],format='%d/%m/%Y')"
   ]
  },
  {
   "cell_type": "code",
   "execution_count": 34,
   "id": "02164417",
   "metadata": {},
   "outputs": [
    {
     "name": "stdout",
     "output_type": "stream",
     "text": [
      "2021-09-06 00:00:00\n",
      "<class 'pandas._libs.tslibs.timestamps.Timestamp'>\n"
     ]
    },
    {
     "data": {
      "text/plain": [
       "False"
      ]
     },
     "execution_count": 34,
     "metadata": {},
     "output_type": "execute_result"
    }
   ],
   "source": [
    "print(dates[0])\n",
    "\n",
    "print(type(dates[1]))\n",
    "\n",
    "\n",
    "dates[0]> dates[1]"
   ]
  },
  {
   "cell_type": "code",
   "execution_count": 14,
   "id": "abd62758",
   "metadata": {},
   "outputs": [
    {
     "ename": "AttributeError",
     "evalue": "type object 'list' has no attribute 'plot'",
     "output_type": "error",
     "traceback": [
      "\u001b[0;31m---------------------------------------------------------------------------\u001b[0m",
      "\u001b[0;31mAttributeError\u001b[0m                            Traceback (most recent call last)",
      "Input \u001b[0;32mIn [14]\u001b[0m, in \u001b[0;36m<module>\u001b[0;34m\u001b[0m\n\u001b[0;32m----> 1\u001b[0m \u001b[43mlista_datas\u001b[49m\u001b[38;5;241;43m.\u001b[39;49m\u001b[43mplot\u001b[49m()\n",
      "\u001b[0;31mAttributeError\u001b[0m: type object 'list' has no attribute 'plot'"
     ]
    }
   ],
   "source": []
  },
  {
   "cell_type": "code",
   "execution_count": 32,
   "id": "a3a6b53b",
   "metadata": {},
   "outputs": [],
   "source": [
    "pd.set_option(\"display.max_rows\", None, \"display.max_columns\", None)"
   ]
  },
  {
   "cell_type": "code",
   "execution_count": 46,
   "id": "383747a9",
   "metadata": {},
   "outputs": [
    {
     "data": {
      "text/html": [
       "<div>\n",
       "<style scoped>\n",
       "    .dataframe tbody tr th:only-of-type {\n",
       "        vertical-align: middle;\n",
       "    }\n",
       "\n",
       "    .dataframe tbody tr th {\n",
       "        vertical-align: top;\n",
       "    }\n",
       "\n",
       "    .dataframe thead th {\n",
       "        text-align: right;\n",
       "    }\n",
       "</style>\n",
       "<table border=\"1\" class=\"dataframe\">\n",
       "  <thead>\n",
       "    <tr style=\"text-align: right;\">\n",
       "      <th></th>\n",
       "      <th>Dose 2</th>\n",
       "      <th>data</th>\n",
       "    </tr>\n",
       "  </thead>\n",
       "  <tbody>\n",
       "    <tr>\n",
       "      <th>0</th>\n",
       "      <td>112596</td>\n",
       "      <td>6/9/2021</td>\n",
       "    </tr>\n",
       "    <tr>\n",
       "      <th>4</th>\n",
       "      <td>127316</td>\n",
       "      <td>16/9/2021</td>\n",
       "    </tr>\n",
       "    <tr>\n",
       "      <th>7</th>\n",
       "      <td>134756</td>\n",
       "      <td>21/9/2021</td>\n",
       "    </tr>\n",
       "    <tr>\n",
       "      <th>13</th>\n",
       "      <td>147603</td>\n",
       "      <td>27/9/2021</td>\n",
       "    </tr>\n",
       "    <tr>\n",
       "      <th>20</th>\n",
       "      <td>10643</td>\n",
       "      <td>4/10/2021</td>\n",
       "    </tr>\n",
       "    <tr>\n",
       "      <th>21</th>\n",
       "      <td>162253</td>\n",
       "      <td>5/10/2021</td>\n",
       "    </tr>\n",
       "    <tr>\n",
       "      <th>23</th>\n",
       "      <td>165061</td>\n",
       "      <td>7/10/2021</td>\n",
       "    </tr>\n",
       "    <tr>\n",
       "      <th>28</th>\n",
       "      <td>168701</td>\n",
       "      <td>12/10/2021</td>\n",
       "    </tr>\n",
       "    <tr>\n",
       "      <th>34</th>\n",
       "      <td>187775</td>\n",
       "      <td>18/10/2021</td>\n",
       "    </tr>\n",
       "    <tr>\n",
       "      <th>43</th>\n",
       "      <td>198600</td>\n",
       "      <td>1/11/2021</td>\n",
       "    </tr>\n",
       "    <tr>\n",
       "      <th>50</th>\n",
       "      <td>225873</td>\n",
       "      <td>8/11/2021</td>\n",
       "    </tr>\n",
       "    <tr>\n",
       "      <th>59</th>\n",
       "      <td>240209</td>\n",
       "      <td>18/11/2021</td>\n",
       "    </tr>\n",
       "    <tr>\n",
       "      <th>75</th>\n",
       "      <td>260391</td>\n",
       "      <td>1/12/2021</td>\n",
       "    </tr>\n",
       "    <tr>\n",
       "      <th>82</th>\n",
       "      <td>264360</td>\n",
       "      <td>7/12/2021</td>\n",
       "    </tr>\n",
       "    <tr>\n",
       "      <th>85</th>\n",
       "      <td>266306</td>\n",
       "      <td>10/12/2021</td>\n",
       "    </tr>\n",
       "    <tr>\n",
       "      <th>120</th>\n",
       "      <td>307076</td>\n",
       "      <td>12/1/2022</td>\n",
       "    </tr>\n",
       "  </tbody>\n",
       "</table>\n",
       "</div>"
      ],
      "text/plain": [
       "     Dose 2        data\n",
       "0    112596    6/9/2021\n",
       "4    127316   16/9/2021\n",
       "7    134756   21/9/2021\n",
       "13   147603   27/9/2021\n",
       "20    10643   4/10/2021\n",
       "21   162253   5/10/2021\n",
       "23   165061   7/10/2021\n",
       "28   168701  12/10/2021\n",
       "34   187775  18/10/2021\n",
       "43   198600   1/11/2021\n",
       "50   225873   8/11/2021\n",
       "59   240209  18/11/2021\n",
       "75   260391   1/12/2021\n",
       "82   264360   7/12/2021\n",
       "85   266306  10/12/2021\n",
       "120  307076   12/1/2022"
      ]
     },
     "execution_count": 46,
     "metadata": {},
     "output_type": "execute_result"
    }
   ],
   "source": [
    "a = pd.DataFrame(dados[\"Dose 2\"])\n",
    "type(a)\n",
    "b =pd.DataFrame(dados[\"Data\"])\n",
    "\n",
    "c = a.assign(data = dados[\"Data\"])\n",
    "\n",
    "c.drop_duplicates(\"Dose 2\")"
   ]
  }
 ],
 "metadata": {
  "kernelspec": {
   "display_name": "Python 3 (ipykernel)",
   "language": "python",
   "name": "python3"
  },
  "language_info": {
   "codemirror_mode": {
    "name": "ipython",
    "version": 3
   },
   "file_extension": ".py",
   "mimetype": "text/x-python",
   "name": "python",
   "nbconvert_exporter": "python",
   "pygments_lexer": "ipython3",
   "version": "3.10.2"
  }
 },
 "nbformat": 4,
 "nbformat_minor": 5
}
